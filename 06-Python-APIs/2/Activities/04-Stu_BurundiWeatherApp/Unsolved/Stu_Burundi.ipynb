{
 "cells": [
  {
   "cell_type": "code",
   "execution_count": 18,
   "metadata": {},
   "outputs": [],
   "source": [
    "# Dependencies\n",
    "import requests\n",
    "from config import api_key"
   ]
  },
  {
   "cell_type": "code",
   "execution_count": 19,
   "metadata": {},
   "outputs": [],
   "source": [
    "# Build query URL and request your results in Celsius\n",
    "url = \"http://api.openweathermap.org/data/2.5/weather?\"\n",
    "city = \"Bujumbura\"\n",
    "units = \"metric\"\n",
    "\n",
    "# Get weather data\n",
    "query_url = url + \"appid=\" + api_key + \"&q=\" + city"
   ]
  },
  {
   "cell_type": "code",
   "execution_count": 20,
   "metadata": {},
   "outputs": [],
   "source": [
    "# Get temperature from JSON response\n",
    "weather_response = requests.get(query_url)\n",
    "weather_json = weather_response.json()"
   ]
  },
  {
   "cell_type": "code",
   "execution_count": 21,
   "metadata": {},
   "outputs": [
    {
     "name": "stdout",
     "output_type": "stream",
     "text": [
      "The weather API responded with: {'coord': {'lon': 29.3644, 'lat': -3.3822}, 'weather': [{'id': 802, 'main': 'Clouds', 'description': 'scattered clouds', 'icon': '03d'}], 'base': 'stations', 'main': {'temp': 297.83, 'feels_like': 297.74, 'temp_min': 297.83, 'temp_max': 297.83, 'pressure': 1015, 'humidity': 53, 'sea_level': 1015, 'grnd_level': 926}, 'visibility': 10000, 'wind': {'speed': 2.57, 'deg': 169, 'gust': 4.34}, 'clouds': {'all': 42}, 'dt': 1627747205, 'sys': {'country': 'BI', 'sunrise': 1627704588, 'sunset': 1627747673}, 'timezone': 7200, 'id': 425378, 'name': 'Bujumbura', 'cod': 200}.\n"
     ]
    }
   ],
   "source": [
    "# Report temperature\n",
    "print(f\"The weather API responded with: {weather_json}.\")"
   ]
  },
  {
   "cell_type": "code",
   "execution_count": 22,
   "metadata": {},
   "outputs": [
    {
     "name": "stdout",
     "output_type": "stream",
     "text": [
      "Temperature: 297.83\n"
     ]
    }
   ],
   "source": [
    "data = weather_json[\"main\"]\n",
    "\n",
    "temp = data[\"temp\"]\n",
    "print(\"Temperature:\", temp) "
   ]
  },
  {
   "cell_type": "code",
   "execution_count": null,
   "metadata": {},
   "outputs": [],
   "source": []
  }
 ],
 "metadata": {
  "kernelspec": {
   "display_name": "Python 3",
   "language": "python",
   "name": "python3"
  },
  "language_info": {
   "codemirror_mode": {
    "name": "ipython",
    "version": 3
   },
   "file_extension": ".py",
   "mimetype": "text/x-python",
   "name": "python",
   "nbconvert_exporter": "python",
   "pygments_lexer": "ipython3",
   "version": "3.6.10"
  },
  "varInspector": {
   "cols": {
    "lenName": 16,
    "lenType": 16,
    "lenVar": 40
   },
   "kernels_config": {
    "python": {
     "delete_cmd_postfix": "",
     "delete_cmd_prefix": "del ",
     "library": "var_list.py",
     "varRefreshCmd": "print(var_dic_list())"
    },
    "r": {
     "delete_cmd_postfix": ") ",
     "delete_cmd_prefix": "rm(",
     "library": "var_list.r",
     "varRefreshCmd": "cat(var_dic_list()) "
    }
   },
   "types_to_exclude": [
    "module",
    "function",
    "builtin_function_or_method",
    "instance",
    "_Feature"
   ],
   "window_display": false
  }
 },
 "nbformat": 4,
 "nbformat_minor": 2
}
