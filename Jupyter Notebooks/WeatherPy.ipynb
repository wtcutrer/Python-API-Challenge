{
 "cells": [
  {
   "cell_type": "markdown",
   "metadata": {},
   "source": [
    "# WeatherPy\n",
    "----\n",
    "\n",
    "#### Note\n",
    "* Instructions have been included for each segment. You do not have to follow them exactly, but they are included to help you think through the steps."
   ]
  },
  {
   "cell_type": "code",
   "execution_count": 88,
   "metadata": {
    "scrolled": true
   },
   "outputs": [],
   "source": [
    "# Dependencies and Setup\n",
    "import matplotlib.pyplot as plt\n",
    "import pandas as pd\n",
    "import numpy as np\n",
    "import requests\n",
    "import time\n",
    "from scipy.stats import linregress\n",
    "\n",
    "# Import API key\n",
    "from api_keys import weather_api_key\n",
    "\n",
    "# Incorporated citipy to determine city based on latitude and longitude\n",
    "from citipy import citipy\n",
    "\n",
    "# Output File (CSV)\n",
    "output_data_file = \"output_data/cities.csv\"\n",
    "\n",
    "# Range of latitudes and longitudes\n",
    "lat_range = (-90, 90)\n",
    "lng_range = (-180, 180)"
   ]
  },
  {
   "cell_type": "markdown",
   "metadata": {},
   "source": [
    "## Generate Cities List"
   ]
  },
  {
   "cell_type": "code",
   "execution_count": 89,
   "metadata": {},
   "outputs": [
    {
     "data": {
      "text/plain": [
       "267"
      ]
     },
     "execution_count": 89,
     "metadata": {},
     "output_type": "execute_result"
    }
   ],
   "source": [
    "# List for holding lat_lngs and cities\n",
    "lat_lngs = []\n",
    "cities = []\n",
    "\n",
    "# Create a set of random lat and lng combinations\n",
    "lats = np.random.uniform(lat_range[0], lat_range[1], size=501)\n",
    "lngs = np.random.uniform(lng_range[0], lng_range[1], size=501)\n",
    "lat_lngs = zip(lats, lngs)\n",
    "\n",
    "# Identify nearest city for each lat, lng combination\n",
    "for lat_lng in lat_lngs:\n",
    "    city = citipy.nearest_city(lat_lng[0], lat_lng[1]).city_name\n",
    "    \n",
    "    # If the city is unique, then add it to a our cities list\n",
    "    if city not in cities:\n",
    "        cities.append(city)\n",
    "\n",
    "# Print the city count to confirm sufficient count\n",
    "len(cities)"
   ]
  },
  {
   "cell_type": "code",
   "execution_count": 90,
   "metadata": {},
   "outputs": [],
   "source": [
    "city_name_list = []\n",
    "cloudiness_list = []\n",
    "country_list = []\n",
    "date_list = []\n",
    "humidity_list = []\n",
    "lat_list = []\n",
    "lng_list = []\n",
    "max_temp_list = []\n",
    "wind_speed_list = []\n",
    "index_counter = 0\n",
    "set_counter = 1"
   ]
  },
  {
   "cell_type": "markdown",
   "metadata": {},
   "source": [
    "### Perform API Calls\n",
    "* Perform a weather check on each city using a series of successive API calls.\n",
    "* Include a print log of each city as it'sbeing processed (with the city number and city name).\n"
   ]
  },
  {
   "cell_type": "code",
   "execution_count": 91,
   "metadata": {
    "scrolled": true
   },
   "outputs": [
    {
     "name": "stdout",
     "output_type": "stream",
     "text": [
      "Beginning Data Retrieval \n",
      "-----------------------------\n",
      "Processing Record 1 of Set 1 : riohacha\n",
      "Processing Record 2 of Set 1 : nome\n",
      "Processing Record 3 of Set 1 : xuddur\n",
      "Processing Record 4 of Set 1 : sassandra\n",
      "Processing Record 5 of Set 1 : plettenberg bay\n",
      "Processing Record 6 of Set 1 : coihaique\n",
      "City not found. On the Road to Next City...\n",
      "Processing Record 7 of Set 1 : provideniya\n",
      "Processing Record 8 of Set 1 : port alfred\n",
      "Processing Record 9 of Set 1 : hofn\n",
      "Processing Record 10 of Set 1 : bluff\n",
      "Processing Record 11 of Set 1 : lavrentiya\n",
      "Processing Record 12 of Set 1 : lebu\n",
      "Processing Record 13 of Set 1 : qaanaaq\n",
      "City not found. On the Road to Next City...\n",
      "Processing Record 14 of Set 1 : punta arenas\n",
      "Processing Record 15 of Set 1 : castro\n",
      "Processing Record 16 of Set 1 : asau\n",
      "Processing Record 17 of Set 1 : rikitea\n",
      "Processing Record 18 of Set 1 : chongoyape\n",
      "Processing Record 19 of Set 1 : tessalit\n",
      "Processing Record 20 of Set 1 : boyolangu\n",
      "Processing Record 21 of Set 1 : palmer\n",
      "Processing Record 22 of Set 1 : jiuquan\n",
      "Processing Record 23 of Set 1 : lagos\n",
      "Processing Record 24 of Set 1 : nanortalik\n",
      "Processing Record 25 of Set 1 : quesnel\n",
      "Processing Record 26 of Set 1 : chuy\n",
      "Processing Record 27 of Set 1 : kiama\n",
      "Processing Record 28 of Set 1 : kodiak\n",
      "Processing Record 29 of Set 1 : esperance\n",
      "Processing Record 30 of Set 1 : butaritari\n",
      "Processing Record 31 of Set 1 : avarua\n",
      "Processing Record 32 of Set 1 : isangel\n",
      "Processing Record 33 of Set 1 : geraldton\n",
      "City not found. On the Road to Next City...\n",
      "Processing Record 34 of Set 1 : mataura\n",
      "Processing Record 35 of Set 1 : biak\n",
      "Processing Record 36 of Set 1 : college\n",
      "Processing Record 37 of Set 1 : busselton\n",
      "Processing Record 38 of Set 1 : vaini\n",
      "Processing Record 39 of Set 1 : saint-philippe\n",
      "Processing Record 40 of Set 1 : kapaa\n",
      "Processing Record 41 of Set 1 : korop\n",
      "Processing Record 42 of Set 1 : carlisle\n",
      "Processing Record 43 of Set 1 : flin flon\n",
      "Processing Record 44 of Set 1 : hellvik\n",
      "Processing Record 45 of Set 1 : ushuaia\n",
      "Processing Record 46 of Set 1 : roma\n",
      "City not found. On the Road to Next City...\n",
      "Processing Record 47 of Set 1 : cape town\n",
      "Processing Record 48 of Set 1 : kaeo\n",
      "Processing Record 49 of Set 1 : hervey bay\n",
      "Processing Record 50 of Set 1 : pandan\n",
      "Processing Record 0 of Set 2 : aykhal\n",
      "Processing Record 1 of Set 2 : boshnyakovo\n",
      "Processing Record 2 of Set 2 : carnarvon\n",
      "Processing Record 3 of Set 2 : katsuura\n",
      "Processing Record 4 of Set 2 : mar del plata\n",
      "Processing Record 5 of Set 2 : tecpan\n",
      "Processing Record 6 of Set 2 : hirara\n",
      "Processing Record 7 of Set 2 : albany\n",
      "Processing Record 8 of Set 2 : amahai\n",
      "Processing Record 9 of Set 2 : bambous virieux\n",
      "Processing Record 10 of Set 2 : new norfolk\n",
      "Processing Record 11 of Set 2 : jamestown\n",
      "Processing Record 12 of Set 2 : mount gambier\n",
      "Processing Record 13 of Set 2 : honolulu\n",
      "Processing Record 14 of Set 2 : bethel\n",
      "Processing Record 15 of Set 2 : kruisfontein\n",
      "Processing Record 16 of Set 2 : airai\n",
      "Processing Record 17 of Set 2 : hobart\n",
      "Processing Record 18 of Set 2 : golyshmanovo\n",
      "Processing Record 19 of Set 2 : pacific grove\n",
      "Processing Record 20 of Set 2 : mae hong son\n",
      "Processing Record 21 of Set 2 : fairlie\n",
      "Processing Record 22 of Set 2 : yellowknife\n",
      "Processing Record 23 of Set 2 : ribeira grande\n",
      "City not found. On the Road to Next City...\n",
      "Processing Record 24 of Set 2 : tuktoyaktuk\n",
      "Processing Record 25 of Set 2 : east london\n",
      "Processing Record 26 of Set 2 : sao filipe\n",
      "Processing Record 27 of Set 2 : saint george\n",
      "Processing Record 28 of Set 2 : antofagasta\n",
      "Processing Record 29 of Set 2 : verkhoyansk\n",
      "Processing Record 30 of Set 2 : ust-nera\n",
      "Processing Record 31 of Set 2 : sterling\n",
      "Processing Record 32 of Set 2 : san rafael del sur\n",
      "City not found. On the Road to Next City...\n",
      "Processing Record 33 of Set 2 : kontagora\n",
      "Processing Record 34 of Set 2 : talnakh\n",
      "Processing Record 35 of Set 2 : bayanday\n",
      "Processing Record 36 of Set 2 : bac lieu\n",
      "Processing Record 37 of Set 2 : trairi\n",
      "Processing Record 38 of Set 2 : sitka\n",
      "Processing Record 39 of Set 2 : puerto ayora\n",
      "Processing Record 40 of Set 2 : port elizabeth\n",
      "Processing Record 41 of Set 2 : barra patuca\n",
      "Processing Record 42 of Set 2 : nambucca heads\n",
      "Processing Record 43 of Set 2 : cairns\n",
      "Processing Record 44 of Set 2 : hilo\n",
      "Processing Record 45 of Set 2 : sarangani\n",
      "Processing Record 46 of Set 2 : khatanga\n",
      "Processing Record 47 of Set 2 : bafq\n",
      "Processing Record 48 of Set 2 : hermanus\n",
      "City not found. On the Road to Next City...\n",
      "Processing Record 49 of Set 2 : gazimurskiy zavod\n",
      "Processing Record 50 of Set 2 : berlevag\n",
      "Processing Record 0 of Set 3 : tallahassee\n",
      "Processing Record 1 of Set 3 : cherskiy\n",
      "Processing Record 2 of Set 3 : hithadhoo\n",
      "Processing Record 3 of Set 3 : zhanaozen\n",
      "Processing Record 4 of Set 3 : plainview\n",
      "Processing Record 5 of Set 3 : yulara\n",
      "Processing Record 6 of Set 3 : sorland\n",
      "City not found. On the Road to Next City...\n",
      "Processing Record 7 of Set 3 : palauig\n",
      "Processing Record 8 of Set 3 : bondo\n",
      "Processing Record 9 of Set 3 : barrow\n",
      "Processing Record 10 of Set 3 : kemijarvi\n",
      "Processing Record 11 of Set 3 : baft\n",
      "City not found. On the Road to Next City...\n",
      "Processing Record 12 of Set 3 : dingle\n",
      "City not found. On the Road to Next City...\n",
      "Processing Record 13 of Set 3 : douglas\n",
      "Processing Record 14 of Set 3 : isla vista\n",
      "Processing Record 15 of Set 3 : touros\n",
      "Processing Record 16 of Set 3 : muroto\n",
      "Processing Record 17 of Set 3 : leh\n",
      "Processing Record 18 of Set 3 : myitkyina\n",
      "Processing Record 19 of Set 3 : viedma\n",
      "City not found. On the Road to Next City...\n",
      "Processing Record 20 of Set 3 : oranjemund\n",
      "Processing Record 21 of Set 3 : miri\n",
      "Processing Record 22 of Set 3 : pevek\n",
      "Processing Record 23 of Set 3 : kibondo\n",
      "Processing Record 24 of Set 3 : severo-kurilsk\n",
      "Processing Record 25 of Set 3 : porto novo\n",
      "Processing Record 26 of Set 3 : floro\n",
      "Processing Record 27 of Set 3 : comodoro rivadavia\n",
      "Processing Record 28 of Set 3 : manokwari\n",
      "Processing Record 29 of Set 3 : margate\n",
      "Processing Record 30 of Set 3 : saint-joseph\n",
      "Processing Record 31 of Set 3 : tres arroyos\n",
      "Processing Record 32 of Set 3 : ketchikan\n",
      "Processing Record 33 of Set 3 : monrovia\n",
      "Processing Record 34 of Set 3 : abu samrah\n",
      "Processing Record 35 of Set 3 : joensuu\n",
      "Processing Record 36 of Set 3 : salalah\n",
      "Processing Record 37 of Set 3 : alyangula\n",
      "Processing Record 38 of Set 3 : vostochnyy\n",
      "Processing Record 39 of Set 3 : djibo\n",
      "Processing Record 40 of Set 3 : chokurdakh\n",
      "Processing Record 41 of Set 3 : waitati\n",
      "Processing Record 42 of Set 3 : mocuba\n",
      "Processing Record 43 of Set 3 : acapulco\n",
      "Processing Record 44 of Set 3 : daru\n",
      "Processing Record 45 of Set 3 : dikson\n",
      "City not found. On the Road to Next City...\n",
      "Processing Record 46 of Set 3 : cabo san lucas\n",
      "Processing Record 47 of Set 3 : thompson\n",
      "Processing Record 48 of Set 3 : darnah\n",
      "City not found. On the Road to Next City...\n",
      "Processing Record 49 of Set 3 : orlik\n",
      "City not found. On the Road to Next City...\n",
      "Processing Record 50 of Set 3 : atasu\n",
      "Processing Record 0 of Set 4 : guerrero negro\n",
      "Processing Record 1 of Set 4 : sorbhog\n",
      "City not found. On the Road to Next City...\n",
      "Processing Record 2 of Set 4 : chiang rai\n",
      "City not found. On the Road to Next City...\n",
      "Processing Record 3 of Set 4 : champerico\n",
      "Processing Record 4 of Set 4 : urengoy\n",
      "Processing Record 5 of Set 4 : lagoa\n",
      "Processing Record 6 of Set 4 : bekovo\n",
      "Processing Record 7 of Set 4 : port hawkesbury\n",
      "Processing Record 8 of Set 4 : buchanan\n",
      "Processing Record 9 of Set 4 : victoria\n",
      "Processing Record 10 of Set 4 : pochutla\n",
      "Processing Record 11 of Set 4 : arraial do cabo\n",
      "Processing Record 12 of Set 4 : rupert\n",
      "Processing Record 13 of Set 4 : harper\n",
      "Processing Record 14 of Set 4 : verkhnevilyuysk\n",
      "City not found. On the Road to Next City...\n",
      "Processing Record 15 of Set 4 : maroantsetra\n",
      "Processing Record 16 of Set 4 : iqaluit\n",
      "Processing Record 17 of Set 4 : hasaki\n",
      "City not found. On the Road to Next City...\n",
      "Processing Record 18 of Set 4 : agvali\n",
      "City not found. On the Road to Next City...\n",
      "Processing Record 19 of Set 4 : nuuk\n",
      "Processing Record 20 of Set 4 : tasiilaq\n",
      "Processing Record 21 of Set 4 : newport\n",
      "City not found. On the Road to Next City...\n",
      "Processing Record 22 of Set 4 : coquimbo\n",
      "Processing Record 23 of Set 4 : narsaq\n",
      "Processing Record 24 of Set 4 : teya\n"
     ]
    },
    {
     "name": "stdout",
     "output_type": "stream",
     "text": [
      "Processing Record 25 of Set 4 : mnogovershinnyy\n",
      "Processing Record 26 of Set 4 : wufeng\n",
      "Processing Record 27 of Set 4 : diamantino\n",
      "Processing Record 28 of Set 4 : mananjary\n",
      "Processing Record 29 of Set 4 : tautira\n",
      "City not found. On the Road to Next City...\n",
      "Processing Record 30 of Set 4 : bredasdorp\n",
      "Processing Record 31 of Set 4 : khandyga\n",
      "Processing Record 32 of Set 4 : portland\n",
      "Processing Record 33 of Set 4 : saquarema\n",
      "Processing Record 34 of Set 4 : butembo\n",
      "Processing Record 35 of Set 4 : sinnamary\n",
      "City not found. On the Road to Next City...\n",
      "Processing Record 36 of Set 4 : atuona\n",
      "Processing Record 37 of Set 4 : ixtapa\n",
      "Processing Record 38 of Set 4 : cam ranh\n",
      "Processing Record 39 of Set 4 : nikolskoye\n",
      "Processing Record 40 of Set 4 : yumen\n",
      "Processing Record 41 of Set 4 : foumbot\n",
      "Processing Record 42 of Set 4 : rawson\n",
      "Processing Record 43 of Set 4 : athabasca\n",
      "Processing Record 44 of Set 4 : nioro\n",
      "Processing Record 45 of Set 4 : srednekolymsk\n",
      "Processing Record 46 of Set 4 : alta floresta\n",
      "Processing Record 47 of Set 4 : ushtobe\n",
      "Processing Record 48 of Set 4 : san patricio\n",
      "Processing Record 49 of Set 4 : gravdal\n",
      "Processing Record 50 of Set 4 : brae\n",
      "Processing Record 0 of Set 5 : bar harbor\n",
      "Processing Record 1 of Set 5 : nampula\n",
      "Processing Record 2 of Set 5 : muskegon\n",
      "Processing Record 3 of Set 5 : nongstoin\n",
      "Processing Record 4 of Set 5 : aborlan\n",
      "City not found. On the Road to Next City...\n",
      "Processing Record 5 of Set 5 : puerto escondido\n",
      "Processing Record 6 of Set 5 : rocha\n",
      "Processing Record 7 of Set 5 : rundu\n",
      "Processing Record 8 of Set 5 : linxia\n",
      "City not found. On the Road to Next City...\n",
      "Processing Record 9 of Set 5 : padang\n",
      "Processing Record 10 of Set 5 : kangaatsiaq\n",
      "Processing Record 11 of Set 5 : oussouye\n",
      "Processing Record 12 of Set 5 : bambanglipuro\n",
      "Processing Record 13 of Set 5 : williams lake\n",
      "Processing Record 14 of Set 5 : lodwar\n",
      "City not found. On the Road to Next City...\n",
      "City not found. On the Road to Next City...\n",
      "Processing Record 15 of Set 5 : karratha\n",
      "Processing Record 16 of Set 5 : guarapuava\n",
      "Processing Record 17 of Set 5 : sao joao da barra\n",
      "Processing Record 18 of Set 5 : santa cruz\n",
      "Processing Record 19 of Set 5 : inhambane\n",
      "Processing Record 20 of Set 5 : chapais\n",
      "Processing Record 21 of Set 5 : krutinka\n",
      "Processing Record 22 of Set 5 : grindavik\n",
      "Processing Record 23 of Set 5 : warwick\n",
      "Processing Record 24 of Set 5 : port macquarie\n",
      "Processing Record 25 of Set 5 : mahebourg\n",
      "Processing Record 26 of Set 5 : suining\n",
      "Processing Record 27 of Set 5 : marakkanam\n",
      "Processing Record 28 of Set 5 : mount isa\n",
      "Processing Record 29 of Set 5 : namibe\n",
      "Processing Record 30 of Set 5 : yershichi\n",
      "Processing Record 31 of Set 5 : leningradskiy\n",
      "City not found. On the Road to Next City...\n",
      "Processing Record 32 of Set 5 : luanda\n",
      "Processing Record 33 of Set 5 : kavieng\n",
      "Processing Record 34 of Set 5 : zaozerne\n",
      "Processing Record 35 of Set 5 : rockhampton\n",
      "Processing Record 36 of Set 5 : zima\n",
      "-----------------------------\n",
      "Data Retrieval Complete! Hope you enjoyed your trip!\n",
      "-----------------------------\n"
     ]
    }
   ],
   "source": [
    "print(\"Beginning Data Retrieval \")\n",
    "print(\"-----------------------------\")\n",
    "\n",
    "base_url = \"http://api.openweathermap.org/data/2.5/weather?\"\n",
    "units = \"imperial\"\n",
    "query_url = f\"{base_url}appid={weather_api_key}&units={units}&q=\"\n",
    "\n",
    "\n",
    "# For each city name in cities list, do below things...\n",
    "for index, city in enumerate(cities, start = 1):\n",
    "    try:\n",
    "        response = requests.get(query_url + city).json()\n",
    "        city_name_list.append(response[\"name\"])\n",
    "        cloudiness_list.append(response[\"clouds\"][\"all\"])\n",
    "        country_list.append(response[\"sys\"][\"country\"])\n",
    "        date_list.append(response[\"dt\"])\n",
    "        humidity_list.append(response[\"main\"][\"humidity\"])\n",
    "        lat_list.append(response[\"coord\"][\"lat\"])\n",
    "        lng_list.append(response[\"coord\"][\"lon\"])\n",
    "        max_temp_list.append(response['main']['temp_max'])\n",
    "        wind_speed_list.append(response[\"wind\"][\"speed\"])\n",
    "        if index_counter > 49:\n",
    "            index_counter = 0\n",
    "            set_counter = set_counter + 1\n",
    "    \n",
    "        else:\n",
    "            index_counter = index_counter + 1\n",
    "            \n",
    "        print(f\"Processing Record {index_counter} of Set {set_counter} : {city}\") \n",
    "  \n",
    "    except(KeyError, IndexError):\n",
    "        print(\"City not found. On the Road to Next City...\")\n",
    "\n",
    "print(\"-----------------------------\")\n",
    "print(\"Data Retrieval Complete! Hope you enjoyed your trip!\")\n",
    "print(\"-----------------------------\")"
   ]
  },
  {
   "cell_type": "markdown",
   "metadata": {},
   "source": [
    "### Convert Raw Data to DataFrame\n",
    "* Export the city data into a .csv.\n",
    "* Display the DataFrame"
   ]
  },
  {
   "cell_type": "code",
   "execution_count": 92,
   "metadata": {},
   "outputs": [],
   "source": [
    "weather_list = pd.DataFrame({ \n",
    "                \"City\" : city_name_list,\n",
    "                \"Cloudiness\" : cloudiness_list,\n",
    "                \"Country\" : country_list,\n",
    "                \"Date\" : date_list,\n",
    "                \"Humidity\" : humidity_list,\n",
    "                \"Lat\" : lat_list,\n",
    "                \"Lng\" : lng_list,\n",
    "                \"Max Temp\" : max_temp_list,\n",
    "                \"Wind Speed\" : wind_speed_list\n",
    "})"
   ]
  },
  {
   "cell_type": "code",
   "execution_count": 93,
   "metadata": {},
   "outputs": [
    {
     "data": {
      "text/html": [
       "<div>\n",
       "<style scoped>\n",
       "    .dataframe tbody tr th:only-of-type {\n",
       "        vertical-align: middle;\n",
       "    }\n",
       "\n",
       "    .dataframe tbody tr th {\n",
       "        vertical-align: top;\n",
       "    }\n",
       "\n",
       "    .dataframe thead th {\n",
       "        text-align: right;\n",
       "    }\n",
       "</style>\n",
       "<table border=\"1\" class=\"dataframe\">\n",
       "  <thead>\n",
       "    <tr style=\"text-align: right;\">\n",
       "      <th></th>\n",
       "      <th>City</th>\n",
       "      <th>Cloudiness</th>\n",
       "      <th>Country</th>\n",
       "      <th>Date</th>\n",
       "      <th>Humidity</th>\n",
       "      <th>Lat</th>\n",
       "      <th>Lng</th>\n",
       "      <th>Max Temp</th>\n",
       "      <th>Wind Speed</th>\n",
       "    </tr>\n",
       "  </thead>\n",
       "  <tbody>\n",
       "    <tr>\n",
       "      <th>0</th>\n",
       "      <td>Riohacha</td>\n",
       "      <td>78</td>\n",
       "      <td>CO</td>\n",
       "      <td>1628442344</td>\n",
       "      <td>55</td>\n",
       "      <td>11.5444</td>\n",
       "      <td>-72.9072</td>\n",
       "      <td>89.35</td>\n",
       "      <td>12.86</td>\n",
       "    </tr>\n",
       "    <tr>\n",
       "      <th>1</th>\n",
       "      <td>Nome</td>\n",
       "      <td>90</td>\n",
       "      <td>US</td>\n",
       "      <td>1628442345</td>\n",
       "      <td>67</td>\n",
       "      <td>64.5011</td>\n",
       "      <td>-165.4064</td>\n",
       "      <td>53.67</td>\n",
       "      <td>18.41</td>\n",
       "    </tr>\n",
       "    <tr>\n",
       "      <th>2</th>\n",
       "      <td>Oddur</td>\n",
       "      <td>100</td>\n",
       "      <td>SO</td>\n",
       "      <td>1628442345</td>\n",
       "      <td>38</td>\n",
       "      <td>4.1213</td>\n",
       "      <td>43.8894</td>\n",
       "      <td>83.35</td>\n",
       "      <td>14.58</td>\n",
       "    </tr>\n",
       "    <tr>\n",
       "      <th>3</th>\n",
       "      <td>Sassandra</td>\n",
       "      <td>36</td>\n",
       "      <td>CI</td>\n",
       "      <td>1628442345</td>\n",
       "      <td>75</td>\n",
       "      <td>4.9500</td>\n",
       "      <td>-6.0833</td>\n",
       "      <td>79.20</td>\n",
       "      <td>11.27</td>\n",
       "    </tr>\n",
       "    <tr>\n",
       "      <th>4</th>\n",
       "      <td>Plettenberg Bay</td>\n",
       "      <td>72</td>\n",
       "      <td>ZA</td>\n",
       "      <td>1628441810</td>\n",
       "      <td>81</td>\n",
       "      <td>-34.0527</td>\n",
       "      <td>23.3716</td>\n",
       "      <td>57.54</td>\n",
       "      <td>4.18</td>\n",
       "    </tr>\n",
       "    <tr>\n",
       "      <th>5</th>\n",
       "      <td>Coyhaique</td>\n",
       "      <td>20</td>\n",
       "      <td>CL</td>\n",
       "      <td>1628441875</td>\n",
       "      <td>57</td>\n",
       "      <td>-45.5752</td>\n",
       "      <td>-72.0662</td>\n",
       "      <td>46.35</td>\n",
       "      <td>4.61</td>\n",
       "    </tr>\n",
       "    <tr>\n",
       "      <th>6</th>\n",
       "      <td>Provideniya</td>\n",
       "      <td>100</td>\n",
       "      <td>RU</td>\n",
       "      <td>1628442138</td>\n",
       "      <td>86</td>\n",
       "      <td>64.3833</td>\n",
       "      <td>-173.3000</td>\n",
       "      <td>44.46</td>\n",
       "      <td>14.09</td>\n",
       "    </tr>\n",
       "    <tr>\n",
       "      <th>7</th>\n",
       "      <td>Port Alfred</td>\n",
       "      <td>61</td>\n",
       "      <td>ZA</td>\n",
       "      <td>1628442197</td>\n",
       "      <td>59</td>\n",
       "      <td>-33.5906</td>\n",
       "      <td>26.8910</td>\n",
       "      <td>66.11</td>\n",
       "      <td>16.71</td>\n",
       "    </tr>\n",
       "    <tr>\n",
       "      <th>8</th>\n",
       "      <td>Hofn</td>\n",
       "      <td>42</td>\n",
       "      <td>IS</td>\n",
       "      <td>1628442191</td>\n",
       "      <td>73</td>\n",
       "      <td>64.2539</td>\n",
       "      <td>-15.2082</td>\n",
       "      <td>56.95</td>\n",
       "      <td>7.02</td>\n",
       "    </tr>\n",
       "    <tr>\n",
       "      <th>9</th>\n",
       "      <td>Bluff</td>\n",
       "      <td>64</td>\n",
       "      <td>NZ</td>\n",
       "      <td>1628442243</td>\n",
       "      <td>64</td>\n",
       "      <td>-46.6000</td>\n",
       "      <td>168.3333</td>\n",
       "      <td>35.80</td>\n",
       "      <td>15.77</td>\n",
       "    </tr>\n",
       "  </tbody>\n",
       "</table>\n",
       "</div>"
      ],
      "text/plain": [
       "              City  Cloudiness Country        Date  Humidity      Lat  \\\n",
       "0         Riohacha          78      CO  1628442344        55  11.5444   \n",
       "1             Nome          90      US  1628442345        67  64.5011   \n",
       "2            Oddur         100      SO  1628442345        38   4.1213   \n",
       "3        Sassandra          36      CI  1628442345        75   4.9500   \n",
       "4  Plettenberg Bay          72      ZA  1628441810        81 -34.0527   \n",
       "5        Coyhaique          20      CL  1628441875        57 -45.5752   \n",
       "6      Provideniya         100      RU  1628442138        86  64.3833   \n",
       "7      Port Alfred          61      ZA  1628442197        59 -33.5906   \n",
       "8             Hofn          42      IS  1628442191        73  64.2539   \n",
       "9            Bluff          64      NZ  1628442243        64 -46.6000   \n",
       "\n",
       "        Lng  Max Temp  Wind Speed  \n",
       "0  -72.9072     89.35       12.86  \n",
       "1 -165.4064     53.67       18.41  \n",
       "2   43.8894     83.35       14.58  \n",
       "3   -6.0833     79.20       11.27  \n",
       "4   23.3716     57.54        4.18  \n",
       "5  -72.0662     46.35        4.61  \n",
       "6 -173.3000     44.46       14.09  \n",
       "7   26.8910     66.11       16.71  \n",
       "8  -15.2082     56.95        7.02  \n",
       "9  168.3333     35.80       15.77  "
      ]
     },
     "execution_count": 93,
     "metadata": {},
     "output_type": "execute_result"
    }
   ],
   "source": [
    "weather_list.head(10)"
   ]
  },
  {
   "cell_type": "code",
   "execution_count": 94,
   "metadata": {},
   "outputs": [],
   "source": [
    "weather_list.to_csv(\"Weather Output Data/cities_output.csv\", index = False)"
   ]
  },
  {
   "cell_type": "markdown",
   "metadata": {},
   "source": [
    "## Inspect the data and remove the cities where the humidity > 100%.\n",
    "----\n",
    "Skip this step if there are no cities that have humidity > 100%. \n",
    "No cities had 100% humidity"
   ]
  },
  {
   "cell_type": "markdown",
   "metadata": {},
   "source": [
    "## Plotting the Data\n",
    "* Use proper labeling of the plots using plot titles (including date of analysis) and axes labels.\n",
    "* Save the plotted figures as .pngs."
   ]
  },
  {
   "cell_type": "markdown",
   "metadata": {},
   "source": [
    "## Latitude vs. Temperature Plot"
   ]
  },
  {
   "cell_type": "code",
   "execution_count": 97,
   "metadata": {
    "scrolled": true
   },
   "outputs": [
    {
     "data": {
      "image/png": "[encoded data removed]",
      "text/plain": [
       "<Figure size 432x288 with 1 Axes>"
      ]
     },
     "metadata": {
      "needs_background": "light"
     },
     "output_type": "display_data"
    }
   ],
   "source": [
    "# Create Latitude vs. Temperature Plot scatter plot\n",
    "plt.scatter(weather_list[\"Lat\"], weather_list[\"Max Temp\"], facecolor = \"forestgreen\", edgecolor = \"black\")\n",
    "\n",
    "# Set title and labels\n",
    "plt.title(\"City Latitude vs. Max Temperature\")\n",
    "plt.xlabel(\"Laitude\")\n",
    "plt.ylabel(\"Max Temperature (F)\")\n",
    "\n",
    "# Format grid lines\n",
    "plt.grid(linestyle='-', linewidth=2, alpha = 0.5)\n",
    "\n",
    "# Save the plotted figure as .pngs\n",
    "plt.savefig(\"Results Images/City Latitude vs Max Temperature.png\")"
   ]
  },
  {
   "cell_type": "markdown",
   "metadata": {},
   "source": [
    "## Latitude vs. Humidity Plot"
   ]
  },
  {
   "cell_type": "code",
   "execution_count": 99,
   "metadata": {},
   "outputs": [
    {
     "data": {
      "image/png": "[encoded data removed]",
      "text/plain": [
       "<Figure size 432x288 with 1 Axes>"
      ]
     },
     "metadata": {
      "needs_background": "light"
     },
     "output_type": "display_data"
    }
   ],
   "source": [
    "# Create Latitude vs. Humidity Plot scatter plot\n",
    "plt.scatter(weather_list[\"Lat\"], weather_list[\"Humidity\"], facecolor = \"forestgreen\", edgecolor = \"black\")\n",
    "\n",
    "# Set title and labels\n",
    "plt.title(\"City Latitude vs. Humidity\")\n",
    "plt.xlabel(\"Laitude\")\n",
    "plt.ylabel(\"Humidity (%)\")\n",
    "\n",
    "# Format grid lines\n",
    "plt.grid(linestyle='-', linewidth=1, alpha = 0.5)\n",
    "\n",
    "# Save the plotted figure as .pngs\n",
    "plt.savefig(\"Results Images/City Latitude vs Humidity.png\")"
   ]
  },
  {
   "cell_type": "markdown",
   "metadata": {},
   "source": [
    "## Latitude vs. Cloudiness Plot"
   ]
  },
  {
   "cell_type": "code",
   "execution_count": 100,
   "metadata": {},
   "outputs": [
    {
     "data": {
      "image/png": "[encoded data removed]",
      "text/plain": [
       "<Figure size 432x288 with 1 Axes>"
      ]
     },
     "metadata": {
      "needs_background": "light"
     },
     "output_type": "display_data"
    }
   ],
   "source": [
    "# Create Latitude vs. Cloudiness Plot scatter plot\n",
    "plt.scatter(weather_list[\"Lat\"], weather_list[\"Cloudiness\"], facecolor = \"steelblue\", edgecolor = \"black\")\n",
    "\n",
    "# Set title and labels\n",
    "plt.title(\"City Latitude vs. Cloudiness\")\n",
    "plt.xlabel(\"Laitude\")\n",
    "plt.ylabel(\"Cloudiness (%)\")\n",
    "\n",
    "# Set y axis limit\n",
    "plt.ylim(-5,105)\n",
    "\n",
    "# Format grid line\n",
    "plt.grid(linestyle='-', linewidth=1, alpha = 0.5)\n",
    "\n",
    "# Save the plotted figure as .pngs\n",
    "plt.savefig(\"Results Images/City Latitude vs Cloudiness.png\")"
   ]
  },
  {
   "cell_type": "markdown",
   "metadata": {},
   "source": [
    "## Latitude vs. Wind Speed Plot"
   ]
  },
  {
   "cell_type": "code",
   "execution_count": 101,
   "metadata": {},
   "outputs": [
    {
     "data": {
      "image/png": "[encoded data removed]",
      "text/plain": [
       "<Figure size 432x288 with 1 Axes>"
      ]
     },
     "metadata": {
      "needs_background": "light"
     },
     "output_type": "display_data"
    }
   ],
   "source": [
    "# Create Latitude vs. Wind Speed scatter plot\n",
    "plt.scatter(weather_list[\"Lat\"], weather_list[\"Wind Speed\"], facecolor = \"steelblue\", edgecolor = \"black\")\n",
    "\n",
    "# Set title and labels\n",
    "plt.title(\"City Latitude vs. Wind Speed (mph)\")\n",
    "plt.xlabel(\"Laitude\")\n",
    "plt.ylabel(\"Wind Speed (%)\")\n",
    "\n",
    "# Set y axis limit\n",
    "plt.ylim(-2,50)\n",
    "\n",
    "# Format grid line\n",
    "plt.grid(linestyle='-', linewidth=1, alpha = 0.5)\n",
    "\n",
    "# Save the plotted figure as .pngs\n",
    "plt.savefig(\"Results Images/City Latitude vs Wind Speed (mph).png\")"
   ]
  },
  {
   "cell_type": "markdown",
   "metadata": {},
   "source": [
    "## Linear Regression"
   ]
  },
  {
   "cell_type": "code",
   "execution_count": null,
   "metadata": {},
   "outputs": [],
   "source": [
    "northern_hemisphere = weather_dict.loc[weather_dict[\"Lat\"] >= 0]\n",
    "southern_hemisphere = weather_dict.loc[weather_dict[\"Lat\"] < 0]"
   ]
  },
  {
   "cell_type": "code",
   "execution_count": null,
   "metadata": {},
   "outputs": [],
   "source": [
    "def linear_agression(x,y):\n",
    "    print(f\"The r-squared is : {round(st.pearsonr(x, y)[0],2)}\")\n",
    "    (slope, intercept, rvalue, pvalue, stderr) = linregress(x, y)\n",
    "    regress_values = x * slope + intercept\n",
    "    line_eq = \"y = \" + str(round(slope,2)) + \"x + \" + str(round(intercept,2))\n",
    "    plt.scatter(x, y)\n",
    "    plt.plot(x,regress_values,\"r-\")\n",
    "    return line_eq\n",
    "\n",
    "# Define a fuction for annotating\n",
    "def annotate(line_eq, a, b):\n",
    "    plt.annotate(line_eq,(a,b),fontsize=15,color=\"red\")"
   ]
  },
  {
   "cell_type": "markdown",
   "metadata": {},
   "source": [
    "####  Northern Hemisphere - Max Temp vs. Latitude Linear Regression"
   ]
  },
  {
   "cell_type": "code",
   "execution_count": null,
   "metadata": {},
   "outputs": [],
   "source": []
  },
  {
   "cell_type": "markdown",
   "metadata": {},
   "source": [
    "####  Southern Hemisphere - Max Temp vs. Latitude Linear Regression"
   ]
  },
  {
   "cell_type": "code",
   "execution_count": null,
   "metadata": {},
   "outputs": [],
   "source": []
  },
  {
   "cell_type": "markdown",
   "metadata": {},
   "source": [
    "####  Northern Hemisphere - Humidity (%) vs. Latitude Linear Regression"
   ]
  },
  {
   "cell_type": "code",
   "execution_count": null,
   "metadata": {},
   "outputs": [],
   "source": []
  },
  {
   "cell_type": "markdown",
   "metadata": {},
   "source": [
    "####  Southern Hemisphere - Humidity (%) vs. Latitude Linear Regression"
   ]
  },
  {
   "cell_type": "code",
   "execution_count": null,
   "metadata": {},
   "outputs": [],
   "source": []
  },
  {
   "cell_type": "markdown",
   "metadata": {},
   "source": [
    "####  Northern Hemisphere - Cloudiness (%) vs. Latitude Linear Regression"
   ]
  },
  {
   "cell_type": "code",
   "execution_count": null,
   "metadata": {},
   "outputs": [],
   "source": []
  },
  {
   "cell_type": "markdown",
   "metadata": {},
   "source": [
    "####  Southern Hemisphere - Cloudiness (%) vs. Latitude Linear Regression"
   ]
  },
  {
   "cell_type": "code",
   "execution_count": null,
   "metadata": {},
   "outputs": [],
   "source": []
  },
  {
   "cell_type": "markdown",
   "metadata": {},
   "source": [
    "####  Northern Hemisphere - Wind Speed (mph) vs. Latitude Linear Regression"
   ]
  },
  {
   "cell_type": "code",
   "execution_count": null,
   "metadata": {},
   "outputs": [],
   "source": []
  },
  {
   "cell_type": "markdown",
   "metadata": {},
   "source": [
    "####  Southern Hemisphere - Wind Speed (mph) vs. Latitude Linear Regression"
   ]
  },
  {
   "cell_type": "code",
   "execution_count": null,
   "metadata": {},
   "outputs": [],
   "source": []
  }
 ],
 "metadata": {
  "anaconda-cloud": {},
  "kernel_info": {
   "name": "python3"
  },
  "kernelspec": {
   "display_name": "Python [conda env:PythonData] *",
   "language": "python",
   "name": "conda-env-PythonData-py"
  },
  "language_info": {
   "codemirror_mode": {
    "name": "ipython",
    "version": 3
   },
   "file_extension": ".py",
   "mimetype": "text/x-python",
   "name": "python",
   "nbconvert_exporter": "python",
   "pygments_lexer": "ipython3",
   "version": "3.6.10"
  },
  "latex_envs": {
   "LaTeX_envs_menu_present": true,
   "autoclose": false,
   "autocomplete": true,
   "bibliofile": "biblio.bib",
   "cite_by": "apalike",
   "current_citInitial": 1,
   "eqLabelWithNumbers": true,
   "eqNumInitial": 1,
   "hotkeys": {
    "equation": "Ctrl-E",
    "itemize": "Ctrl-I"
   },
   "labels_anchors": false,
   "latex_user_defs": false,
   "report_style_numbering": false,
   "user_envs_cfg": false
  },
  "nteract": {
   "version": "0.12.3"
  }
 },
 "nbformat": 4,
 "nbformat_minor": 2
}
